import pandas as pd
import plotly.graph_objs as go
from openpyxl import load_workbook
from PIL import Image
import numpy as np
from scipy import misc
# Load Excel file
file_path = '座標1.xlsx'
wb = load_workbook(file_path)
ws1 = wb['345kV']
ws2 = wb['161kV']
ws4 = wb['relation']

# 原程式中的影像處理
im = misc.face()
# 先替換成新影像的路徑
new_image_path = "taiwan map white2.png"
new_im = Image.open(new_image_path)
# Rotate the image 90 degrees counter-clockwise
new_im = new_im.rotate(270, expand=True)

new_im = new_im.convert('P', palette='WEB', dither=None)
new_idx_to_color = np.array(new_im.getpalette()).reshape((-1, 3))
new_colorscale=[[i/255.0, "rgb({}, {}, {})".format(*rgb)] for i, rgb in enumerate(new_idx_to_color)]

# 將原程式中的影像變數替換為新影像
eight_bit_img = new_im

# 將原程式中的顏色映射變數替換為新影像的顏色映射
colorscale = new_colorscale

# 3d scatter plot
x = np.linspace(21.9, 25.28, new_im.width)
y = np.linspace(119.2, 122.1, new_im.height)
z = np.zeros((new_im.height, new_im.width))

fig = go.Figure()

fig.add_trace(go.Surface(x=x, y=y, z=z,
    surfacecolor=eight_bit_img, 
    cmin=0, 
    cmax=255,
    colorscale=colorscale,
    showscale=False,
    lighting_diffuse=1,
    lighting_ambient=1,
    lighting_fresnel=1,
    lighting_roughness=1,
    lighting_specular=0.5,
))

# Function to get positions based on bus name
def get_position(sheet, bus_name):
    for i in range(1, sheet.max_row + 1):
        if sheet.cell(row=i, column=1).value == bus_name:
            return float(sheet.cell(row=i, column=3).value ), float(sheet.cell(row=i, column=4).value )
    return -1, -1
def get345kVPosition(name):
    for i in range(1,55+1,1):
        if ws1.cell(row=i,column=1).value == name:
            return float(ws1.cell(row=i,column=3).value),float(ws1.cell(row=i,column=4).value)
    return -1,-1


def get161kVPosition(name):   
    for i in range(1,406,1):
        if ws2.cell(row=i,column=1).value == name:
            return float(ws2.cell(row=i,column=3).value),float(ws2.cell(row=i,column=4).value)
    return -1,-1

# Plot 345kV bus positions
for i in range(1, 55 + 1):
    x, y = get_position(ws1, ws1.cell(row=i, column=1).value)
    if x != -1 and y != -1:
        fig.add_trace(go.Scatter3d(x=[x], y=[y], z=[1], mode='markers', marker=dict(size=3, color='red'),
                                   text=ws1.cell(row=i, column=1).value,name='{}'.format(ws1.cell(row=i, column=1).value)))

# Plot 161kV bus positions
for i in range(1, 406):
    x, y = get_position(ws2, ws2.cell(row=i, column=1).value)
    if x != -1 and y != -1:
        fig.add_trace(go.Scatter3d(x=[x], y=[y], z=[0.5], mode='markers', marker=dict(size=3, color='blue'),
                                   text=ws2.cell(row=i, column=1).value, name='{}'.format(ws2.cell(row=i, column=1).value)))
        


# Plot transformer connections
for i in range(1, 129, 1):
    x1,y1=get345kVPosition(ws4.cell(row=i,column=5).value)
    x2,y2=get345kVPosition(ws4.cell(row=i,column=6).value)
    if x1!=-1 and y1!=-1 and x2!=-1 and y2!=-1:
         fig.add_trace(go.Scatter3d(x=[x1, x2], y=[y1, y2], z=[1, 1], mode='lines',
                                   line=dict(width=1, color='black'), name='Line'))

for i in range(129, 1042, 1):
    x3,y3 = get161kVPosition(ws4.cell(row=i,column=5).value)
    x4,y4 = get161kVPosition(ws4.cell(row=i,column=6).value)
    if x3 != -1 and y3 != -1 and x4!= -1 and y4!= -1:
         fig.add_trace(go.Scatter3d(x=[x3, x4], y=[y3, y4], z=[0.5, 0.5], mode='lines',
                                   line=dict(width=1, color='black'), name='Line'))



for i in range(1, 129, 1):
    for j in range(129, 1042, 1):
        if ws4.cell(row=j, column=5).value == ws4.cell(row=i, column=5).value:
            x7,y7 = get345kVPosition(ws4.cell(row=i,column=5).value)
            x8,y8 = get161kVPosition(ws4.cell(row=j,column=5).value)
            if x7 != -1 and y7 != -1 and x8!= -1 and y8!= -1:
                 fig.add_trace(go.Scatter3d(x=[x7, x8], y=[y7, y8], z=[1, 0.5], mode='lines',
                                   line=dict(width=3,dash='dash', color='gray'), name='Transformer'))


# Update layout
fig.update_layout(title='Power Grid Connections', autosize=False,
                  width=800, height=800, scene=dict(xaxis=dict(title='X',autorange='reversed'),
                                                   yaxis=dict(title='Y'),
                                                   zaxis=dict(title='Z')))

# Show plot
fig.show()
fig.write_html("taiwan map.html")
